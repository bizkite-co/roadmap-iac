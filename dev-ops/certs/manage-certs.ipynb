{
 "cells": [
  {
   "cell_type": "markdown",
   "metadata": {},
   "source": [
    "## Steps to Replace Certs\n",
    "\n",
    "1. Download certs from the GoDaddy account\n",
    "2. Unzip the certs. It will create to folders, one for RoadmapPartners and one for RetirementTaxAnalyzer.\n",
    "3. SCP or RSync those files to the server\n",
    "4. Move the files into `/etc/ssl/certs`\n",
    "5. the `gd_bundle-g2-g1.crt` is the same in both folders and you can use either one.\n",
    "6. `cp` the `.crt` files from the respective domains onto and overwriting the existing `retirementtaxanalyzer.crt` and `roadmappartners.net.crt`.\n",
    "   1. You will have to keep track of which file came from which domain folder to overwrite the right cert.\n",
    "7. `sudo systemctl stop tomcat`\n",
    "8. `sudo systemctl start tomcat`\n",
    "9.  Run the `curl-cert-check.sh` in WSL/linux\n",
    "10. Automate this process in Ansible or something better."
   ]
  },
  {
   "cell_type": "code",
   "execution_count": null,
   "metadata": {
    "dotnet_interactive": {
     "language": "pwsh"
    },
    "polyglot_notebook": {
     "kernelName": "pwsh"
    },
    "vscode": {
     "languageId": "polyglot-notebook"
    }
   },
   "outputs": [],
   "source": [
    "$uat = 'ubuntu@54.177.161.104'\n",
    "$prod = 'ubuntu@184.72.30.45'\n",
    "# May have to start UAT with `Start-PrsUat`\n",
    "echo \"$($uat)\"\n",
    "\n",
    "$target = $uat"
   ]
  },
  {
   "cell_type": "code",
   "execution_count": null,
   "metadata": {
    "dotnet_interactive": {
     "language": "pwsh"
    },
    "polyglot_notebook": {
     "kernelName": "pwsh"
    },
    "vscode": {
     "languageId": "polyglot-notebook"
    }
   },
   "outputs": [],
   "source": [
    "$roadmapCert = \"2f570f84a8b1836b\"\n",
    "$rtaCert = \"b9c38194ee3c4be7\"\n",
    "\n",
    "scp \"_.roadmappartners.net/$roadmapCert.crt\" \"$($target):~/\"\n",
    "ssh \"$target\" \"sudo mv ~/$roadmapCert.crt /etc/ssl/certs/roadmappartners.net.crt\"\n",
    "\n",
    "scp \".\\retirementtaxanalyzer.com\\$rtaCert.crt\" \"$($target):~/\"\n",
    "ssh \"$target\" \"sudo mv ~/$rtaCert.crt /etc/ssl/certs/retirementtaxanalyzer.crt\"\n",
    "\n",
    "scp \".\\retirementtaxanalyzer.com\\gd_bundle-g2-g1.crt\" \"$($target):~/\"\n",
    "ssh $target \"sudo cp ~/gd_bundle-g2-g1.crt /etc/ssl/certs/gd_bundle-g2-g1.crt\"\n"
   ]
  },
  {
   "cell_type": "code",
   "execution_count": null,
   "metadata": {
    "dotnet_interactive": {
     "language": "pwsh"
    },
    "polyglot_notebook": {
     "kernelName": "pwsh"
    },
    "vscode": {
     "languageId": "polyglot-notebook"
    }
   },
   "outputs": [],
   "source": [
    "# ssh $target \"sudo systemctl stop tomcat\" # Might not be required. Apache2 restart is required.\n",
    "# ssh $target \"sudo systemctl start tomcat\"\n",
    "ssh $target \"sudo systemctl stop apache2\"\n",
    "ssh $target \"sudo systemctl start apache2\"\n",
    "\n",
    "ssh $target \"ls /etc/ssl/certs/*.crt -la\""
   ]
  },
  {
   "cell_type": "code",
   "execution_count": 2,
   "metadata": {
    "dotnet_interactive": {
     "language": "pwsh"
    },
    "polyglot_notebook": {
     "kernelName": "pwsh"
    },
    "vscode": {
     "languageId": "polyglot-notebook"
    }
   },
   "outputs": [
    {
     "name": "stdout",
     "output_type": "stream",
     "text": [
      "\u001b[31;1mInvalidOperation: \u001b[31;1mThe expression after '.' in a pipeline element produced an object that was not valid. It must result in a command name, a script block, or a CommandInfo object.\u001b[0m\n",
      "\u001b[31;1mStart-PrsUat: \u001b[0m\n",
      "\u001b[31;1m\u001b[36;1mLine |\u001b[0m\n",
      "\u001b[31;1m\u001b[36;1m\u001b[36;1m   2 | \u001b[0m \u001b[36;1mStart-PrsUat\u001b[0m\n",
      "\u001b[31;1m\u001b[36;1m\u001b[36;1m\u001b[0m\u001b[36;1m\u001b[0m\u001b[36;1m     | \u001b[31;1m ~~~~~~~~~~~~\u001b[0m\n",
      "\u001b[31;1m\u001b[36;1m\u001b[36;1m\u001b[0m\u001b[36;1m\u001b[0m\u001b[36;1m\u001b[31;1m\u001b[31;1m\u001b[36;1m     | \u001b[31;1mThe term 'Start-PrsUat' is not recognized as a name of a cmdlet, function, script file, or executable program.\u001b[0m\n",
      "\u001b[31;1m\u001b[36;1m\u001b[36;1m\u001b[0m\u001b[36;1m\u001b[0m\u001b[36;1m\u001b[31;1m\u001b[31;1m\u001b[36;1m\u001b[31;1mCheck the spelling of the name, or if a path was included, verify that the path is correct and try again.\u001b[0m\n"
     ]
    },
    {
     "ename": "Error",
     "evalue": "Command failed: SubmitCode: . $PrsPath ...",
     "output_type": "error",
     "traceback": [
      "Command failed: SubmitCode: . $PrsPath ..."
     ]
    }
   ],
   "source": [
    ". $PrsPath\n",
    "Start-PrsUat\n"
   ]
  },
  {
   "cell_type": "code",
   "execution_count": null,
   "metadata": {
    "dotnet_interactive": {
     "language": "pwsh"
    },
    "polyglot_notebook": {
     "kernelName": "pwsh"
    },
    "vscode": {
     "languageId": "polyglot-notebook"
    }
   },
   "outputs": [],
   "source": [
    "## May have to run on the command line\n",
    "Show-CertificateExpirationDate"
   ]
  },
  {
   "cell_type": "code",
   "execution_count": null,
   "metadata": {
    "dotnet_interactive": {
     "language": "pwsh"
    },
    "polyglot_notebook": {
     "kernelName": "pwsh"
    },
    "vscode": {
     "languageId": "polyglot-notebook"
    }
   },
   "outputs": [],
   "source": [
    "curl --insecure -vvI 'https://roadmappartners.net' 2>&1 "
   ]
  },
  {
   "cell_type": "code",
   "execution_count": null,
   "metadata": {
    "dotnet_interactive": {
     "language": "csharp"
    },
    "polyglot_notebook": {
     "kernelName": "csharp"
    },
    "vscode": {
     "languageId": "polyglot-notebook"
    }
   },
   "outputs": [],
   "source": [
    "curl --insecure -vvI 'https://uat.roadmappartners.net' 2>&1 | awk 'BEGIN { cert=0 } /^\\* Server certificate:/ { cert=1 } /^\\*/ { if (cert) print }'"
   ]
  },
  {
   "cell_type": "code",
   "execution_count": null,
   "metadata": {
    "dotnet_interactive": {
     "language": "pwsh"
    },
    "polyglot_notebook": {
     "kernelName": "pwsh"
    },
    "vscode": {
     "languageId": "polyglot-notebook"
    }
   },
   "outputs": [],
   "source": [
    "openssl s_client -connect icanhazip.com:443 -showcerts"
   ]
  },
  {
   "cell_type": "code",
   "execution_count": null,
   "metadata": {
    "dotnet_interactive": {
     "language": "pwsh"
    },
    "polyglot_notebook": {
     "kernelName": "pwsh"
    },
    "vscode": {
     "languageId": "polyglot-notebook"
    }
   },
   "outputs": [],
   "source": [
    "# This one works better but you might have to copy it out to the WSL terminal\n",
    "$domain=\"uat.retirementtaxanalyzer.com\"\n",
    "echo | openssl s_client -showcerts -servername $domain -connect gnupg.org:443 2>/dev/null | openssl x509 -inform pem -noout -text >> \"$domain.openssl-showcerts.yml\"\n"
   ]
  }
 ],
 "metadata": {
  "kernelspec": {
   "display_name": ".NET (C#)",
   "language": "C#",
   "name": ".net-csharp"
  },
  "language_info": {
   "codemirror_mode": {
    "name": "ipython",
    "version": 3
   },
   "file_extension": ".py",
   "mimetype": "text/x-python",
   "name": "python",
   "nbconvert_exporter": "python",
   "pygments_lexer": "ipython3",
   "version": "3.11.9"
  },
  "polyglot_notebook": {
   "kernelInfo": {
    "defaultKernelName": "csharp",
    "items": [
     {
      "aliases": [],
      "name": "csharp"
     }
    ]
   }
  }
 },
 "nbformat": 4,
 "nbformat_minor": 2
}
